{
  "cells": [
    {
      "cell_type": "markdown",
      "metadata": {
        "id": "s5AmFUVsoCue"
      },
      "source": [
        "# Network Dynamics and Graph - Politecnico di Torino - Hafez Ghaemi - S289963\n",
        "## HW1 - Exercise 3"
      ]
    },
    {
      "cell_type": "code",
      "execution_count": 2,
      "metadata": {
        "id": "IxrN7L0wexlg"
      },
      "outputs": [],
      "source": [
        "import numpy as np\n",
        "import networkx as nx\n",
        "import matplotlib.pyplot as plt\n",
        "import cvxpy as cp"
      ]
    },
    {
      "cell_type": "markdown",
      "metadata": {
        "id": "yNFPyeqWoSNj"
      },
      "source": [
        "## Reading the data and creating the graph"
      ]
    },
    {
      "cell_type": "code",
      "execution_count": 2,
      "metadata": {
        "id": "2pYIy2d1VIrj"
      },
      "outputs": [],
      "source": [
        "import scipy.io\n",
        "f = scipy.io.loadmat('flow.mat')[\"flow\"].reshape(28,)\n",
        "C = scipy.io.loadmat('capacities.mat')[\"capacities\"].reshape(28,)\n",
        "B = scipy.io.loadmat('traffic.mat')[\"traffic\"]\n",
        "l = scipy.io.loadmat('traveltime.mat')[\"traveltime\"].reshape(28,)\n"
      ]
    },
    {
      "cell_type": "code",
      "execution_count": 3,
      "metadata": {
        "id": "dvphRmktVcTF"
      },
      "outputs": [],
      "source": [
        "nV = np.shape(B)[0]\n",
        "nE = np.shape(B)[1]"
      ]
    },
    {
      "cell_type": "code",
      "execution_count": 5,
      "metadata": {
        "id": "OO4GPYkrfb0P"
      },
      "outputs": [],
      "source": [
        "G = nx.DiGraph()\n",
        "for e in range(nE):\n",
        "  G.add_edge(list(B[:,e]).index(1)+1, list(B[:,e]).index(-1)+1, weight=l[e], capacity = C[e])"
      ]
    },
    {
      "cell_type": "markdown",
      "metadata": {
        "id": "bcbQXXoboX91"
      },
      "source": [
        "## Part a"
      ]
    },
    {
      "cell_type": "code",
      "execution_count": 6,
      "metadata": {
        "colab": {
          "base_uri": "https://localhost:8080/"
        },
        "id": "6YiiJt00oXny",
        "outputId": "55880adb-e9ec-47b0-f5e7-726dbfe1d8c2"
      },
      "outputs": [
        {
          "name": "stdout",
          "output_type": "stream",
          "text": [
            "The shortest path and its total cost:\n",
            "[1, 2, 3, 9, 13, 17]\n",
            "0.532996\n"
          ]
        }
      ],
      "source": [
        "print(\"The shortest path and its total cost:\")\n",
        "print(nx.shortest_path(G,1,17))\n",
        "print(nx.shortest_path_length(G,1,17, weight=\"weight\"))\n"
      ]
    },
    {
      "cell_type": "markdown",
      "metadata": {
        "id": "fLFzH8XPpQec"
      },
      "source": [
        "## Part b"
      ]
    },
    {
      "cell_type": "markdown",
      "metadata": {
        "id": "OnmEuX3qonAk"
      },
      "source": [
        "## The maximum flow"
      ]
    },
    {
      "cell_type": "code",
      "execution_count": 7,
      "metadata": {
        "colab": {
          "base_uri": "https://localhost:8080/"
        },
        "id": "YrI_mVpPoT_E",
        "outputId": "34c0ae67-2154-44e3-d7b0-e217d8929a78"
      },
      "outputs": [
        {
          "name": "stdout",
          "output_type": "stream",
          "text": [
            "The maximum flow and its path:\n",
            "22448\n",
            "{1: {2: 8741, 6: 13707}, 2: {3: 8741, 7: 0}, 3: {4: 0, 8: 0, 9: 8741}, 4: {5: 0, 9: 0}, 5: {14: 0}, 6: {7: 4624, 10: 9083}, 7: {8: 4624, 10: 0}, 8: {9: 4624, 11: 0}, 9: {13: 6297, 12: 7068}, 13: {14: 3835, 17: 10355}, 14: {17: 3835}, 10: {11: 825, 15: 8258}, 11: {12: 825, 15: 0}, 15: {16: 8258}, 12: {13: 7893}, 17: {}, 16: {17: 8258}}\n"
          ]
        }
      ],
      "source": [
        "print(\"The maximum flow and its path:\")\n",
        "print(nx.maximum_flow(G,1,17)[0])\n",
        "print(nx.maximum_flow(G,1,17)[1])"
      ]
    },
    {
      "cell_type": "markdown",
      "metadata": {
        "id": "kNwo4rWwqWC1"
      },
      "source": [
        "## Part c"
      ]
    },
    {
      "cell_type": "code",
      "execution_count": 8,
      "metadata": {
        "id": "QadUjvGIVdFd"
      },
      "outputs": [],
      "source": [
        "v = B@f\n",
        "v1 = v[0]\n",
        "v17 = -v1"
      ]
    },
    {
      "cell_type": "code",
      "execution_count": 9,
      "metadata": {
        "colab": {
          "base_uri": "https://localhost:8080/"
        },
        "id": "GUqAZSsl3pg7",
        "outputId": "86d57126-8ee9-4919-aed0-422d2a924e69"
      },
      "outputs": [
        {
          "name": "stdout",
          "output_type": "stream",
          "text": [
            "The exteranl flows satisfying v=Bf\n",
            "[ 16806   8570  19448   4957   -746   4768    413     -2  -5671   1169\n",
            "     -5  -7131   -380  -7412  -7810  -3430 -23544]\n"
          ]
        }
      ],
      "source": [
        "print(\"The exteranl flows satisfying v=Bf\")\n",
        "print(v)"
      ]
    },
    {
      "cell_type": "code",
      "execution_count": 14,
      "metadata": {
        "id": "kslX1MCZpGvQ"
      },
      "outputs": [],
      "source": [
        "v_new = np.zeros(nV)\n",
        "v_new[0] = v1\n",
        "v_new[16] = v17"
      ]
    },
    {
      "cell_type": "markdown",
      "metadata": {
        "id": "-qyKx2Hr3pg7"
      },
      "source": [
        "## Part d"
      ]
    },
    {
      "cell_type": "code",
      "execution_count": 15,
      "metadata": {
        "id": "_2doDnwa3pg8"
      },
      "outputs": [],
      "source": [
        "def totalDelay(f):\n",
        "    return np.sum(f*l/(1-f/C))"
      ]
    },
    {
      "cell_type": "code",
      "execution_count": 16,
      "metadata": {
        "id": "zzlasKVFrDOg"
      },
      "outputs": [],
      "source": [
        "f_var = cp.Variable(nE)\n",
        "SO_obje = cp.Minimize(cp.sum(cp.multiply(cp.multiply(l,C), cp.inv_pos(1-(cp.multiply(f_var, cp.inv_pos(C)))))-cp.multiply(l,C)))\n",
        "SO_cons = [B@f_var==v_new, f_var>=0, f_var<=C]\n",
        "prob = cp.Problem(SO_obje,SO_cons)\n",
        "prob.solve()\n",
        "SO_flow = f_var.value\n",
        "SO_delay = totalDelay(SO_flow)"
      ]
    },
    {
      "cell_type": "code",
      "execution_count": 17,
      "metadata": {
        "colab": {
          "base_uri": "https://localhost:8080/"
        },
        "id": "hhsT-uFRprDY",
        "outputId": "10b95466-9ecd-4954-949f-4e4a57068df4"
      },
      "outputs": [
        {
          "name": "stdout",
          "output_type": "stream",
          "text": [
            "Total delay in social optimum:  25943.6\n",
            "Flows in social optimum:  [ 6642.2  6058.9  3132.3  3132.3 10163.8  4638.3  3006.3  2542.6  3131.5\n",
            "   583.3     0.   2926.6     0.   3132.3  5525.5  2854.3  4886.4  2215.2\n",
            "   463.7  2337.7  3318.   5655.7  2373.1     0.   6414.1  5505.4  4886.5\n",
            "  4886.5]\n"
          ]
        }
      ],
      "source": [
        "print(\"Total delay in social optimum: \", SO_delay.round(1))\n",
        "print(\"Flows in social optimum: \", SO_flow.round(1))"
      ]
    },
    {
      "cell_type": "markdown",
      "metadata": {
        "id": "70-Dhk1gtLcR"
      },
      "source": [
        "## Part e1"
      ]
    },
    {
      "cell_type": "code",
      "execution_count": 21,
      "metadata": {
        "id": "CwtlsY3Y7ObD"
      },
      "outputs": [],
      "source": [
        "f_var = cp.Variable(nE)\n",
        "Ward_obje = cp.Minimize(cp.sum(-cp.multiply(cp.multiply(l,C),cp.log(C-f_var)-cp.log(C))))\n",
        "Ward_cons = [B@f_var==v_new, f_var>=0, f_var<=C]\n",
        "prob = cp.Problem(Ward_obje,Ward_cons)\n",
        "prob.solve()\n",
        "Ward_flow = f_var.value\n",
        "Ward_delay = totalDelay(Ward_flow)\n"
      ]
    },
    {
      "cell_type": "code",
      "execution_count": 22,
      "metadata": {
        "colab": {
          "base_uri": "https://localhost:8080/"
        },
        "id": "nbfmQ3MtqPbY",
        "outputId": "d0c7ee04-6c73-4ddc-e4df-4957daa54ea3"
      },
      "outputs": [
        {
          "name": "stdout",
          "output_type": "stream",
          "text": [
            "Total delay in Wardrope without tolls:  26293.0\n",
            "Flows in Wardrope without tolls:  [ 6715.6  6715.6  2367.4  2367.4 10090.4  4645.4  2803.8  2283.6  3418.5\n",
            "     0.    176.8  4171.4     0.   2367.4  5445.   2353.2  4933.3  1841.6\n",
            "   697.1  3036.5  3050.3  6086.8  2586.5     0.   6918.7  4953.9  4933.3\n",
            "  4933.3]\n"
          ]
        }
      ],
      "source": [
        "print(\"Total delay in Wardrope without tolls: \", Ward_delay.round(1))\n",
        "print(\"Flows in Wardrope without tolls: \", Ward_flow.round(1))"
      ]
    },
    {
      "cell_type": "code",
      "execution_count": 23,
      "metadata": {
        "colab": {
          "base_uri": "https://localhost:8080/"
        },
        "id": "QWWO4LJOhtv8",
        "outputId": "cbe4ddb2-fd1e-4ee0-a4bd-599fd0aa9756"
      },
      "outputs": [
        {
          "name": "stdout",
          "output_type": "stream",
          "text": [
            "The price of anarchy without tolls: 1.0134653783719794\n"
          ]
        }
      ],
      "source": [
        "poa = Ward_delay/SO_delay\n",
        "print(\"The price of anarchy without tolls:\", poa)"
      ]
    },
    {
      "cell_type": "markdown",
      "metadata": {
        "id": "R_cSZ7wz3pg-"
      },
      "source": [
        "## Part e2"
      ]
    },
    {
      "cell_type": "code",
      "execution_count": 24,
      "metadata": {
        "id": "KU1fLVWE3pg_"
      },
      "outputs": [],
      "source": [
        "f_var = cp.Variable(nE)\n",
        "omega = SO_flow*C*l/(SO_flow-C)**2\n",
        "Ward_toll_obje = cp.Minimize(cp.sum(cp.multiply(cp.multiply(l,C),cp.log(C)-cp.log(C-f_var)) + cp.multiply(f_var,omega)))\n",
        "Ward_toll_cons = [B@f_var==v_new, f_var>=0, f_var<=C]\n",
        "prob = cp.Problem(Ward_toll_obje,Ward_toll_cons)\n",
        "prob.solve()\n",
        "prob.solve()\n",
        "Ward_toll_flow = f_var.value\n",
        "Ward_toll_delay = totalDelay(Ward_toll_flow)"
      ]
    },
    {
      "cell_type": "code",
      "execution_count": 25,
      "metadata": {
        "colab": {
          "base_uri": "https://localhost:8080/"
        },
        "id": "F6SauF8nrNrM",
        "outputId": "b0c667f5-c75b-4480-d20e-463757910958"
      },
      "outputs": [
        {
          "name": "stdout",
          "output_type": "stream",
          "text": [
            "Total delay in Wardrope with tolls:  25943.6\n",
            "Flows in Wardrope with tolls:  [ 6643.   6059.1  3132.5  3132.5 10163.   4638.3  3006.3  2542.3  3131.5\n",
            "   583.9     0.   2926.6     0.   3132.5  5524.8  2854.2  4886.4  2215.8\n",
            "   464.   2337.5  3318.2  5655.7  2373.      0.   6414.1  5505.5  4886.4\n",
            "  4886.4]\n"
          ]
        }
      ],
      "source": [
        "print(\"Total delay in Wardrope with tolls: \", Ward_toll_delay.round(1))\n",
        "print(\"Flows in Wardrope with tolls: \", Ward_toll_flow.round(1))"
      ]
    },
    {
      "cell_type": "code",
      "execution_count": 26,
      "metadata": {
        "colab": {
          "base_uri": "https://localhost:8080/"
        },
        "id": "OahkO8MsUFgP",
        "outputId": "29a07b87-9f2d-49a8-dc8c-296b230792ea"
      },
      "outputs": [
        {
          "name": "stdout",
          "output_type": "stream",
          "text": [
            "The price of anarchy with tolls: 1.0\n"
          ]
        }
      ],
      "source": [
        "poa = Ward_toll_delay/SO_delay\n",
        "print(\"The price of anarchy with tolls:\", round(poa,3))"
      ]
    },
    {
      "cell_type": "markdown",
      "metadata": {
        "id": "pqBqVqb8ryWf"
      },
      "source": [
        "## Part f"
      ]
    },
    {
      "cell_type": "code",
      "execution_count": 27,
      "metadata": {
        "id": "7u9yD4hrgCml"
      },
      "outputs": [],
      "source": [
        "def tot_cost_new(f):\n",
        "    return np.sum(f*l/(1-f/C)-f*l)"
      ]
    },
    {
      "cell_type": "code",
      "execution_count": 30,
      "metadata": {
        "id": "t9blJg823phB"
      },
      "outputs": [],
      "source": [
        "f_var = cp.Variable(nE)\n",
        "SO_obje_new_cost = cp.Minimize(cp.sum(cp.multiply(cp.multiply(l,C), cp.inv_pos(1-(cp.multiply(f_var, cp.inv_pos(C)))))- cp.multiply(l,C)- cp.multiply(f_var, l)))\n",
        "SO_cons_new_cost = [B@f_var==v_new, f_var>=0, f_var<=C]\n",
        "prob = cp.Problem(SO_obje_new_cost,SO_cons_new_cost)\n",
        "prob.solve()\n",
        "SO_flow_new_cost_flow = f_var.value\n",
        "SO_new_cost = tot_cost_new(SO_flow_new_cost_flow)"
      ]
    },
    {
      "cell_type": "code",
      "execution_count": 31,
      "metadata": {
        "colab": {
          "base_uri": "https://localhost:8080/"
        },
        "id": "7L9Br8pysKMm",
        "outputId": "b2ff6688-6d07-4bea-de9c-8af83b5a488a"
      },
      "outputs": [
        {
          "name": "stdout",
          "output_type": "stream",
          "text": [
            "Total cost in scoial optimum with new cost function:  15095.5\n",
            "Flows in social optimum with the new cost function:  [ 6653.3  5774.7  3419.7  3419.7 10152.7  4642.8  3105.8  2662.2  3009.1\n",
            "   878.6     0.   2354.9     0.   3419.7  5509.9  3043.7  4881.8  2415.6\n",
            "   443.7  2008.   3487.4  5495.4  2203.8     0.   6300.7  5623.5  4881.8\n",
            "  4881.8]\n"
          ]
        }
      ],
      "source": [
        "print(\"Total cost in scoial optimum with new cost function: \", SO_new_cost.round(1))\n",
        "print(\"Flows in social optimum with the new cost function: \", SO_flow_new_cost_flow.round(1))"
      ]
    },
    {
      "cell_type": "code",
      "execution_count": 33,
      "metadata": {
        "id": "Yri3vx07r8r3"
      },
      "outputs": [],
      "source": [
        "omega_new = SO_flow_new_cost_flow*C*l/(SO_flow_new_cost_flow-C)**2\n",
        "f_var = cp.Variable(nE)\n",
        "Ward_toll_obje_new= cp.Minimize(cp.sum(cp.multiply(l,cp.multiply(C,cp.log(C))-cp.multiply(C,cp.log(C-f_var))-f_var)+cp.multiply(f_var,omega_new)))\n",
        "Ward_toll_cons_new = [B@f_var==v_new, f_var>=0, f_var<=C]\n",
        "prob = cp.Problem(Ward_toll_obje_new,Ward_toll_cons_new)\n",
        "prob.solve()\n",
        "Ward_toll_flow_new = f_var.value\n",
        "Ward_toll_new_total_cost = tot_cost_new(Ward_toll_flow_new)"
      ]
    },
    {
      "cell_type": "code",
      "execution_count": 34,
      "metadata": {
        "colab": {
          "base_uri": "https://localhost:8080/"
        },
        "id": "P-Cx6uLf3phB",
        "outputId": "7e87b270-f19d-465f-c3a4-88521634ae66"
      },
      "outputs": [
        {
          "name": "stdout",
          "output_type": "stream",
          "text": [
            "Total Wardrope cost with tolls with the new cost function:  15095.5\n",
            "Flows in Wardrope with tolls with the new cost function:  [ 6653.1  5775.4  3419.5  3419.5 10152.9  4642.4  3105.5  2661.7  3009.2\n",
            "   877.7     0.   2355.9     0.   3419.5  5510.4  3043.4  4881.7  2414.6\n",
            "   443.8  2008.5  3487.1  5495.6  2204.1     0.   6300.7  5623.5  4881.7\n",
            "  4881.7]\n"
          ]
        }
      ],
      "source": [
        "print(\"Total Wardrope cost with tolls with the new cost function: \", Ward_toll_new_total_cost.round(1))\n",
        "print(\"Flows in Wardrope with tolls with the new cost function: \", Ward_toll_flow_new.round(1))"
      ]
    }
  ],
  "metadata": {
    "colab": {
      "collapsed_sections": [],
      "name": "q3.ipynb",
      "provenance": []
    },
    "kernelspec": {
      "display_name": "Python 3",
      "language": "python",
      "name": "python3"
    },
    "language_info": {
      "codemirror_mode": {
        "name": "ipython",
        "version": 3
      },
      "file_extension": ".py",
      "mimetype": "text/x-python",
      "name": "python",
      "nbconvert_exporter": "python",
      "pygments_lexer": "ipython3",
      "version": "3.9.4"
    }
  },
  "nbformat": 4,
  "nbformat_minor": 0
}
